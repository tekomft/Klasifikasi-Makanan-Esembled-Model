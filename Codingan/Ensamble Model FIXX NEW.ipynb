{
 "cells": [
  {
   "cell_type": "code",
   "execution_count": 4,
   "metadata": {},
   "outputs": [],
   "source": [
    "import numpy as np\n",
    "from tensorflow.keras.models import load_model\n",
    "from tensorflow.keras.preprocessing.image import ImageDataGenerator\n",
    "from sklearn.metrics import precision_score, recall_score, f1_score,  classification_report"
   ]
  },
  {
   "cell_type": "code",
   "execution_count": 5,
   "metadata": {},
   "outputs": [
    {
     "name": "stderr",
     "output_type": "stream",
     "text": [
      "WARNING:absl:Compiled the loaded model, but the compiled metrics have yet to be built. `model.compile_metrics` will be empty until you train or evaluate the model.\n",
      "WARNING:absl:Compiled the loaded model, but the compiled metrics have yet to be built. `model.compile_metrics` will be empty until you train or evaluate the model.\n",
      "WARNING:absl:Compiled the loaded model, but the compiled metrics have yet to be built. `model.compile_metrics` will be empty until you train or evaluate the model.\n"
     ]
    }
   ],
   "source": [
    "mobilenetv2_model = load_model(r\"D:\\Kuliah Semester 6\\Jurnal\\Materi\\CNN\\Codingan\\Model_Skripsi\\mobilenetv2_Percobaan 4(2).h5\")\n",
    "xception_model = load_model(r\"D:\\Kuliah Semester 6\\Jurnal\\Materi\\CNN\\Codingan\\Model_Skripsi\\Percobaan3_Xception.h5\") \n",
    "efficientnetb0_model = load_model(r\"D:\\Kuliah Semester 6\\Jurnal\\Materi\\CNN\\Codingan\\Model_Skripsi\\Percobaan3(2)_EfficientNetB0.h5\")"
   ]
  },
  {
   "cell_type": "code",
   "execution_count": 6,
   "metadata": {},
   "outputs": [],
   "source": [
    "dic = {0: 'Buras', 1: 'Dangkot', 2: 'Gogos', 3: 'Kapurung', 4: 'Sokko', 5: 'Sop Konro'} \n",
    "label_to_class = {v: k for k, v in dic.items()}"
   ]
  },
  {
   "cell_type": "code",
   "execution_count": 7,
   "metadata": {},
   "outputs": [
    {
     "name": "stdout",
     "output_type": "stream",
     "text": [
      "Found 1020 images belonging to 6 classes.\n"
     ]
    }
   ],
   "source": [
    "datagen = ImageDataGenerator(rescale=1.0/255.0)\n",
    "validation_generator = datagen.flow_from_directory(\n",
    "    r\"D:\\Kuliah Semester 6\\Jurnal\\Materi\\CNN\\Split_dataset\\val\",\n",
    "    target_size=(224, 224),\n",
    "    batch_size=64,\n",
    "    class_mode='categorical',\n",
    "    shuffle=False\n",
    ")"
   ]
  },
  {
   "cell_type": "code",
   "execution_count": 8,
   "metadata": {},
   "outputs": [
    {
     "name": "stderr",
     "output_type": "stream",
     "text": [
      "d:\\Anaconda\\Lib\\site-packages\\keras\\src\\trainers\\data_adapters\\py_dataset_adapter.py:121: UserWarning: Your `PyDataset` class should call `super().__init__(**kwargs)` in its constructor. `**kwargs` can include `workers`, `use_multiprocessing`, `max_queue_size`. Do not pass these arguments to `fit()`, as they will be ignored.\n",
      "  self._warn_if_super_not_called()\n"
     ]
    },
    {
     "name": "stdout",
     "output_type": "stream",
     "text": [
      "\u001b[1m16/16\u001b[0m \u001b[32m━━━━━━━━━━━━━━━━━━━━\u001b[0m\u001b[37m\u001b[0m \u001b[1m44s\u001b[0m 3s/step\n",
      "\u001b[1m16/16\u001b[0m \u001b[32m━━━━━━━━━━━━━━━━━━━━\u001b[0m\u001b[37m\u001b[0m \u001b[1m92s\u001b[0m 6s/step\n",
      "\u001b[1m16/16\u001b[0m \u001b[32m━━━━━━━━━━━━━━━━━━━━\u001b[0m\u001b[37m\u001b[0m \u001b[1m39s\u001b[0m 2s/step\n"
     ]
    }
   ],
   "source": [
    "# Get predictions from each model\n",
    "mobilenetv2_preds = mobilenetv2_model.predict(validation_generator)\n",
    "xception_preds = xception_model.predict(validation_generator)\n",
    "efficientnetb0_preds = efficientnetb0_model.predict(validation_generator)"
   ]
  },
  {
   "cell_type": "code",
   "execution_count": 9,
   "metadata": {},
   "outputs": [],
   "source": [
    "# Average the predictions\n",
    "ensemble_preds = (mobilenetv2_preds + xception_preds + efficientnetb0_preds) / 3"
   ]
  },
  {
   "cell_type": "code",
   "execution_count": 10,
   "metadata": {},
   "outputs": [],
   "source": [
    "final_preds = np.argmax(ensemble_preds, axis=1)\n",
    "true_labels = validation_generator.classes"
   ]
  },
  {
   "cell_type": "code",
   "execution_count": 11,
   "metadata": {},
   "outputs": [],
   "source": [
    "# Calculate accuracy\n",
    "accuracy = np.sum(final_preds == true_labels) / len(true_labels)\n",
    "\n",
    "# Calculate precision, recall, and f1-score\n",
    "precision = precision_score(true_labels, final_preds, average='weighted')\n",
    "recall = recall_score(true_labels, final_preds, average='weighted')\n",
    "f1 = f1_score(true_labels, final_preds, average='weighted')"
   ]
  },
  {
   "cell_type": "code",
   "execution_count": 12,
   "metadata": {},
   "outputs": [],
   "source": [
    "# Calculate loss (categorical crossentropy)\n",
    "loss = -np.sum(np.log(np.max(ensemble_preds, axis=1))) / len(true_labels)"
   ]
  },
  {
   "cell_type": "code",
   "execution_count": 13,
   "metadata": {},
   "outputs": [
    {
     "name": "stdout",
     "output_type": "stream",
     "text": [
      "Ensemble Model Accuracy: 0.92\n",
      "Precision: 0.92\n",
      "Recall: 0.92\n",
      "F1 Score: 0.92\n",
      "Loss: 0.44\n"
     ]
    }
   ],
   "source": [
    "print(f'Ensemble Model Accuracy: {accuracy:.2f}')\n",
    "print(f'Precision: {precision:.2f}')\n",
    "print(f'Recall: {recall:.2f}')\n",
    "print(f'F1 Score: {f1:.2f}')\n",
    "print(f'Loss: {loss:.2f}')"
   ]
  },
  {
   "cell_type": "code",
   "execution_count": 14,
   "metadata": {},
   "outputs": [
    {
     "name": "stdout",
     "output_type": "stream",
     "text": [
      "Classification Report: \n",
      "               precision    recall  f1-score   support\n",
      "\n",
      "       Buras       0.97      0.93      0.95       177\n",
      "     Dangkot       0.90      0.89      0.89       172\n",
      "       Gogos       0.97      0.96      0.96       172\n",
      "    Kapurung       0.95      0.88      0.91       184\n",
      "       Sokko       0.91      0.94      0.93       165\n",
      "   Sop Konro       0.84      0.95      0.89       150\n",
      "\n",
      "    accuracy                           0.92      1020\n",
      "   macro avg       0.92      0.92      0.92      1020\n",
      "weighted avg       0.93      0.92      0.92      1020\n",
      "\n"
     ]
    }
   ],
   "source": [
    "print(\"Classification Report: \\n\", classification_report(final_preds, true_labels, target_names=list(dic.values())))"
   ]
  }
 ],
 "metadata": {
  "kernelspec": {
   "display_name": "Python 3",
   "language": "python",
   "name": "python3"
  },
  "language_info": {
   "codemirror_mode": {
    "name": "ipython",
    "version": 3
   },
   "file_extension": ".py",
   "mimetype": "text/x-python",
   "name": "python",
   "nbconvert_exporter": "python",
   "pygments_lexer": "ipython3",
   "version": "3.11.7"
  }
 },
 "nbformat": 4,
 "nbformat_minor": 2
}
