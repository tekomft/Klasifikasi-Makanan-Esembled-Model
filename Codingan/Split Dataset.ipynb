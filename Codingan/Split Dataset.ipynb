{
 "cells": [
  {
   "cell_type": "code",
   "execution_count": 1,
   "metadata": {},
   "outputs": [
    {
     "name": "stdout",
     "output_type": "stream",
     "text": [
      "Dataset berhasil dibagi menjadi train, val, dan test.\n"
     ]
    }
   ],
   "source": [
    "import os\n",
    "import shutil\n",
    "from sklearn.model_selection import train_test_split\n",
    "\n",
    "def split_dataset(input_folder, output_folder, train_size=0.7, val_size=0.15):\n",
    "    # Membuat folder output jika belum ada\n",
    "    if not os.path.exists(output_folder):\n",
    "        os.makedirs(output_folder)\n",
    "    \n",
    "    # Membuat subfolder untuk train, val, dan test\n",
    "    train_folder = os.path.join(output_folder, 'train')\n",
    "    val_folder = os.path.join(output_folder, 'val')\n",
    "    test_folder = os.path.join(output_folder, 'test')\n",
    "    \n",
    "    for folder in [train_folder, val_folder, test_folder]:\n",
    "        if not os.path.exists(folder):\n",
    "            os.makedirs(folder)\n",
    "    \n",
    "    # Memproses setiap kelas dalam folder input\n",
    "    for class_name in os.listdir(input_folder):\n",
    "        class_input_folder = os.path.join(input_folder, class_name)\n",
    "        images = os.listdir(class_input_folder)\n",
    "        \n",
    "        # Membagi gambar menjadi train, val, dan test\n",
    "        train_images, temp_images = train_test_split(images, train_size=train_size, random_state=42)\n",
    "        val_images, test_images = train_test_split(temp_images, train_size=val_size/(1-train_size), random_state=42)\n",
    "        \n",
    "        class_train_folder = os.path.join(train_folder, class_name)\n",
    "        class_val_folder = os.path.join(val_folder, class_name)\n",
    "        class_test_folder = os.path.join(test_folder, class_name)\n",
    "        \n",
    "        for folder in [class_train_folder, class_val_folder, class_test_folder]:\n",
    "            if not os.path.exists(folder):\n",
    "                os.makedirs(folder)\n",
    "        \n",
    "        # Menyalin gambar ke folder train\n",
    "        for image_name in train_images:\n",
    "            shutil.copy(os.path.join(class_input_folder, image_name), os.path.join(class_train_folder, image_name))\n",
    "        \n",
    "        # Menyalin gambar ke folder val\n",
    "        for image_name in val_images:\n",
    "            shutil.copy(os.path.join(class_input_folder, image_name), os.path.join(class_val_folder, image_name))\n",
    "        \n",
    "        # Menyalin gambar ke folder test\n",
    "        for image_name in test_images:\n",
    "            shutil.copy(os.path.join(class_input_folder, image_name), os.path.join(class_test_folder, image_name))\n",
    "\n",
    "# Contoh penggunaan\n",
    "input_folder = r'D:\\Kuliah Semester 6\\Jurnal\\Materi\\CNN\\Dataset'\n",
    "output_folder = r'D:\\Kuliah Semester 6\\Jurnal\\Materi\\CNN\\Split_dataset'\n",
    "\n",
    "# Membagi dataset\n",
    "split_dataset(input_folder, output_folder)\n",
    "\n",
    "print(\"Dataset berhasil dibagi menjadi train, val, dan test.\")\n"
   ]
  }
 ],
 "metadata": {
  "kernelspec": {
   "display_name": "Python 3",
   "language": "python",
   "name": "python3"
  },
  "language_info": {
   "codemirror_mode": {
    "name": "ipython",
    "version": 3
   },
   "file_extension": ".py",
   "mimetype": "text/x-python",
   "name": "python",
   "nbconvert_exporter": "python",
   "pygments_lexer": "ipython3",
   "version": "3.11.8"
  }
 },
 "nbformat": 4,
 "nbformat_minor": 2
}
